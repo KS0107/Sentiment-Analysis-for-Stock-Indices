{
 "cells": [
  {
   "cell_type": "code",
   "execution_count": 20,
   "metadata": {},
   "outputs": [],
   "source": [
    "import numpy as np\n",
    "import pandas as pd\n",
    "import matplotlib.pyplot as plt\n",
    "import nltk\n",
    "import re\n",
    "import keras\n",
    "from collections import Counter\n",
    "from datetime import datetime\n",
    "from keras.preprocessing import sequence"
   ]
  },
  {
   "cell_type": "code",
   "execution_count": 21,
   "metadata": {},
   "outputs": [],
   "source": [
    "stopwords = set(nltk.corpus.stopwords.words('english'))\n",
    "def cleantext(string):\n",
    "    # Remove all punctuation\n",
    "    string = re.sub(r\"'s\\b\", '', string)\n",
    "    string = re.sub(r'[^\\w\\s]', '', string)\n",
    "    # Make all lowercase\n",
    "    string = string.lower()\n",
    "    # remove all stopwords\n",
    "    string = ' '.join([word for word in string.split() if word not in stopwords])\n",
    "    # Remove all special characters\n",
    "    string = re.sub(r'\\W+', ' ', string)\n",
    "    return string\n",
    "def lemmatize(string):\n",
    "    lemmatizer = nltk.stem.WordNetLemmatizer()\n",
    "    string = ' '.join([lemmatizer.lemmatize(word) for word in string.split()])\n",
    "    return string\n",
    "def preprocess(obj):\n",
    "    obj = cleantext(obj)\n",
    "    obj = lemmatize(obj)\n",
    "    return obj"
   ]
  },
  {
   "cell_type": "code",
   "execution_count": 22,
   "metadata": {},
   "outputs": [],
   "source": [
    "data = pd.read_csv('../Datasets/news_data_labelled.csv', encoding='latin-1')"
   ]
  },
  {
   "cell_type": "code",
   "execution_count": 23,
   "metadata": {},
   "outputs": [
    {
     "name": "stderr",
     "output_type": "stream",
     "text": [
      "/var/folders/b_/r3vv94d920j081nfk44rgzqc0000gn/T/ipykernel_20027/348602656.py:2: SettingWithCopyWarning: \n",
      "A value is trying to be set on a copy of a slice from a DataFrame.\n",
      "Try using .loc[row_indexer,col_indexer] = value instead\n",
      "\n",
      "See the caveats in the documentation: https://pandas.pydata.org/pandas-docs/stable/user_guide/indexing.html#returning-a-view-versus-a-copy\n",
      "  initial_data['Text'] = initial_data['Title'] + ' ' + initial_data['Text']\n",
      "/var/folders/b_/r3vv94d920j081nfk44rgzqc0000gn/T/ipykernel_20027/348602656.py:3: SettingWithCopyWarning: \n",
      "A value is trying to be set on a copy of a slice from a DataFrame.\n",
      "Try using .loc[row_indexer,col_indexer] = value instead\n",
      "\n",
      "See the caveats in the documentation: https://pandas.pydata.org/pandas-docs/stable/user_guide/indexing.html#returning-a-view-versus-a-copy\n",
      "  initial_data['Text'] = initial_data['Text'].apply(preprocess)\n"
     ]
    }
   ],
   "source": [
    "initial_data = data.dropna()\n",
    "initial_data['Text'] = initial_data['Title'] + ' ' + initial_data['Text']\n",
    "initial_data['Text'] = initial_data['Text'].apply(preprocess)"
   ]
  },
  {
   "cell_type": "code",
   "execution_count": 24,
   "metadata": {},
   "outputs": [],
   "source": [
    "# calculate term frequencies for texts, and store in dictionary term_freq\n",
    "term_freq = {}\n",
    "for text in initial_data['Text']:\n",
    "    for word in text.split():\n",
    "        if word in term_freq:\n",
    "            term_freq[word] += 1\n",
    "        else:\n",
    "            term_freq[word] = 1"
   ]
  },
  {
   "cell_type": "code",
   "execution_count": 25,
   "metadata": {},
   "outputs": [
    {
     "name": "stderr",
     "output_type": "stream",
     "text": [
      "/var/folders/b_/r3vv94d920j081nfk44rgzqc0000gn/T/ipykernel_20027/2161908480.py:1: SettingWithCopyWarning: \n",
      "A value is trying to be set on a copy of a slice from a DataFrame.\n",
      "Try using .loc[row_indexer,col_indexer] = value instead\n",
      "\n",
      "See the caveats in the documentation: https://pandas.pydata.org/pandas-docs/stable/user_guide/indexing.html#returning-a-view-versus-a-copy\n",
      "  initial_data['Text'] = initial_data['Text'].apply(nltk.word_tokenize)\n",
      "/var/folders/b_/r3vv94d920j081nfk44rgzqc0000gn/T/ipykernel_20027/2161908480.py:2: SettingWithCopyWarning: \n",
      "A value is trying to be set on a copy of a slice from a DataFrame.\n",
      "Try using .loc[row_indexer,col_indexer] = value instead\n",
      "\n",
      "See the caveats in the documentation: https://pandas.pydata.org/pandas-docs/stable/user_guide/indexing.html#returning-a-view-versus-a-copy\n",
      "  initial_data['Sentiment'] = initial_data['Sentiment'].apply(lambda x: 1 if x == 'positive' else (-1 if x == 'negative' else 0))\n"
     ]
    }
   ],
   "source": [
    "initial_data['Text'] = initial_data['Text'].apply(nltk.word_tokenize)\n",
    "initial_data['Sentiment'] = initial_data['Sentiment'].apply(lambda x: 1 if x == 'positive' else (-1 if x == 'negative' else 0))\n",
    "\n"
   ]
  },
  {
   "cell_type": "code",
   "execution_count": 26,
   "metadata": {},
   "outputs": [
    {
     "name": "stderr",
     "output_type": "stream",
     "text": [
      "/var/folders/b_/r3vv94d920j081nfk44rgzqc0000gn/T/ipykernel_20027/3876706404.py:3: SettingWithCopyWarning: \n",
      "A value is trying to be set on a copy of a slice from a DataFrame.\n",
      "Try using .loc[row_indexer,col_indexer] = value instead\n",
      "\n",
      "See the caveats in the documentation: https://pandas.pydata.org/pandas-docs/stable/user_guide/indexing.html#returning-a-view-versus-a-copy\n",
      "  initial_data[\"Sentiment\"] = initial_data[\"Sentiment\"].map({-1: 0, 0: 1, 1: 2})\n",
      "/var/folders/b_/r3vv94d920j081nfk44rgzqc0000gn/T/ipykernel_20027/3876706404.py:6: SettingWithCopyWarning: \n",
      "A value is trying to be set on a copy of a slice from a DataFrame.\n",
      "Try using .loc[row_indexer,col_indexer] = value instead\n",
      "\n",
      "See the caveats in the documentation: https://pandas.pydata.org/pandas-docs/stable/user_guide/indexing.html#returning-a-view-versus-a-copy\n",
      "  initial_data[\"Sentiment\"] = one_hot.tolist()\n"
     ]
    }
   ],
   "source": [
    "from keras.utils import to_categorical\n",
    "\n",
    "initial_data[\"Sentiment\"] = initial_data[\"Sentiment\"].map({-1: 0, 0: 1, 1: 2})\n",
    "one_hot = to_categorical(initial_data[\"Sentiment\"], num_classes=3)\n",
    "# change sentiment column to one hot\n",
    "initial_data[\"Sentiment\"] = one_hot.tolist()"
   ]
  },
  {
   "cell_type": "code",
   "execution_count": 27,
   "metadata": {},
   "outputs": [
    {
     "name": "stderr",
     "output_type": "stream",
     "text": [
      "/var/folders/b_/r3vv94d920j081nfk44rgzqc0000gn/T/ipykernel_20027/3808331608.py:5: SettingWithCopyWarning: \n",
      "A value is trying to be set on a copy of a slice from a DataFrame.\n",
      "Try using .loc[row_indexer,col_indexer] = value instead\n",
      "\n",
      "See the caveats in the documentation: https://pandas.pydata.org/pandas-docs/stable/user_guide/indexing.html#returning-a-view-versus-a-copy\n",
      "  initial_data[\"Text\"] = initial_data[\"Text\"].apply(lambda x: [vocab_to_int[word] for word in x if word in vocab_to_int])\n"
     ]
    }
   ],
   "source": [
    "from collections import Counter\n",
    "all_words = [word for sublist in initial_data['Text'].tolist() for word in sublist]\n",
    "word_count = Counter(all_words)\n",
    "vocab_to_int = {word: index+1 for index, (word, _) in enumerate(word_count.items())}\n",
    "initial_data[\"Text\"] = initial_data[\"Text\"].apply(lambda x: [vocab_to_int[word] for word in x if word in vocab_to_int])"
   ]
  },
  {
   "cell_type": "code",
   "execution_count": 28,
   "metadata": {},
   "outputs": [],
   "source": [
    "initial_data = initial_data[initial_data['Text'].map(len) >= 2]\n",
    "# truncate the text to 512 words\n",
    "initial_data['Text'] = initial_data['Text'].apply(lambda x: x[:40])\n",
    "initial_data.reset_index(drop=True, inplace=True)"
   ]
  },
  {
   "cell_type": "code",
   "execution_count": 29,
   "metadata": {},
   "outputs": [
    {
     "data": {
      "image/png": "[encoded data removed]",
      "text/plain": [
       "<Figure size 640x480 with 1 Axes>"
      ]
     },
     "metadata": {},
     "output_type": "display_data"
    },
    {
     "data": {
      "text/plain": [
       "count    295575.000000\n",
       "mean         38.781101\n",
       "std           4.033692\n",
       "min           2.000000\n",
       "25%          40.000000\n",
       "50%          40.000000\n",
       "75%          40.000000\n",
       "max          40.000000\n",
       "dtype: float64"
      ]
     },
     "execution_count": 29,
     "metadata": {},
     "output_type": "execute_result"
    }
   ],
   "source": [
    "text_int = initial_data[\"Text\"].tolist()\n",
    "sent_length = [len(x) for x in text_int]\n",
    "plt.title(\"Text Length\")\n",
    "pd.Series(sent_length).hist()\n",
    "plt.show()\n",
    "pd.Series(sent_length).describe()"
   ]
  },
  {
   "cell_type": "code",
   "execution_count": 30,
   "metadata": {},
   "outputs": [],
   "source": [
    "# postpad the text to 381 words (the 75th percentile)\n",
    "initial_data[\"Text\"] = list(sequence.pad_sequences(initial_data[\"Text\"], maxlen=750, padding='post'))"
   ]
  },
  {
   "cell_type": "code",
   "execution_count": 31,
   "metadata": {},
   "outputs": [],
   "source": [
    "initial_data = initial_data[:10000]\n"
   ]
  },
  {
   "cell_type": "code",
   "execution_count": 32,
   "metadata": {},
   "outputs": [],
   "source": [
    "from sklearn.model_selection import train_test_split\n",
    "\n",
    "train_data, temp_data = train_test_split(initial_data, test_size=0.3, random_state=42)\n",
    "\n",
    "validation_data, test_data = train_test_split(temp_data, test_size=0.5, random_state=42)"
   ]
  },
  {
   "cell_type": "code",
   "execution_count": 33,
   "metadata": {},
   "outputs": [],
   "source": [
    "vocab_size = len(vocab_to_int) + 1\n",
    "embedding_dim = 256\n",
    "max_length = 750\n",
    "trunc_type = 'post'\n",
    "padding_type = 'post'\n",
    "oov_tok = \"<OOV>\""
   ]
  },
  {
   "cell_type": "code",
   "execution_count": 34,
   "metadata": {},
   "outputs": [],
   "source": [
    "model = keras.Sequential([\n",
    "    keras.layers.Embedding(len(vocab_to_int)+1, embedding_dim, input_length=max_length),\n",
    "    keras.layers.Bidirectional(keras.layers.LSTM(64)),\n",
    "    keras.layers.Dense(64, activation='relu'),\n",
    "    keras.layers.Dense(3, activation='softmax')\n",
    "])"
   ]
  },
  {
   "cell_type": "code",
   "execution_count": 35,
   "metadata": {},
   "outputs": [
    {
     "data": {
      "text/html": [
       "<div>\n",
       "<style scoped>\n",
       "    .dataframe tbody tr th:only-of-type {\n",
       "        vertical-align: middle;\n",
       "    }\n",
       "\n",
       "    .dataframe tbody tr th {\n",
       "        vertical-align: top;\n",
       "    }\n",
       "\n",
       "    .dataframe thead th {\n",
       "        text-align: right;\n",
       "    }\n",
       "</style>\n",
       "<table border=\"1\" class=\"dataframe\">\n",
       "  <thead>\n",
       "    <tr style=\"text-align: right;\">\n",
       "      <th></th>\n",
       "      <th>Date</th>\n",
       "      <th>Title</th>\n",
       "      <th>Text</th>\n",
       "      <th>Sentiment</th>\n",
       "    </tr>\n",
       "  </thead>\n",
       "  <tbody>\n",
       "    <tr>\n",
       "      <th>9069</th>\n",
       "      <td>2018-01-08</td>\n",
       "      <td>rugby leaguewidnes papua new guinea centre ott...</td>\n",
       "      <td>[4453, 74893, 42502, 21, 13534, 6716, 74894, 3...</td>\n",
       "      <td>[0.0, 0.0, 1.0]</td>\n",
       "    </tr>\n",
       "    <tr>\n",
       "      <th>2603</th>\n",
       "      <td>2018-01-03</td>\n",
       "      <td>autos chips retail trader blitz</td>\n",
       "      <td>[8698, 8679, 2155, 1367, 13711, 8698, 8679, 21...</td>\n",
       "      <td>[0.0, 1.0, 0.0]</td>\n",
       "    </tr>\n",
       "    <tr>\n",
       "      <th>7738</th>\n",
       "      <td>2018-01-08</td>\n",
       "      <td>regulators reject rick perry plan prop coal nu...</td>\n",
       "      <td>[3615, 6806, 3578, 3213, 1193, 2818, 1116, 405...</td>\n",
       "      <td>[0.0, 0.0, 1.0]</td>\n",
       "    </tr>\n",
       "    <tr>\n",
       "      <th>1579</th>\n",
       "      <td>2018-01-02</td>\n",
       "      <td>klein law firm notifies investors class action...</td>\n",
       "      <td>[8538, 1538, 685, 25746, 1007, 3216, 801, 1963...</td>\n",
       "      <td>[1.0, 0.0, 0.0]</td>\n",
       "    </tr>\n",
       "    <tr>\n",
       "      <th>5058</th>\n",
       "      <td>2018-01-05</td>\n",
       "      <td>tennis brazil bellucci banned five months doping</td>\n",
       "      <td>[5125, 3014, 42332, 4196, 550, 54, 16213, 738,...</td>\n",
       "      <td>[1.0, 0.0, 0.0]</td>\n",
       "    </tr>\n",
       "    <tr>\n",
       "      <th>...</th>\n",
       "      <td>...</td>\n",
       "      <td>...</td>\n",
       "      <td>...</td>\n",
       "      <td>...</td>\n",
       "    </tr>\n",
       "    <tr>\n",
       "      <th>5734</th>\n",
       "      <td>2018-01-05</td>\n",
       "      <td>hazard states gaining bluestate tax refugees</td>\n",
       "      <td>[24069, 164, 5709, 6320, 1104, 3078, 111, 121,...</td>\n",
       "      <td>[0.0, 0.0, 1.0]</td>\n",
       "    </tr>\n",
       "    <tr>\n",
       "      <th>5191</th>\n",
       "      <td>2018-01-05</td>\n",
       "      <td>twitter world leader tweet ban policy</td>\n",
       "      <td>[2353, 40, 72, 7105, 3393, 1237, 2353, 237, 23...</td>\n",
       "      <td>[1.0, 0.0, 0.0]</td>\n",
       "    </tr>\n",
       "    <tr>\n",
       "      <th>5390</th>\n",
       "      <td>2018-01-05</td>\n",
       "      <td>nucor invites join fourth quarter 2017 confere...</td>\n",
       "      <td>[36674, 20527, 3621, 3051, 1286, 25, 1020, 539...</td>\n",
       "      <td>[0.0, 0.0, 1.0]</td>\n",
       "    </tr>\n",
       "    <tr>\n",
       "      <th>860</th>\n",
       "      <td>2018-01-02</td>\n",
       "      <td>new leadership death compass group ceo</td>\n",
       "      <td>[21, 1986, 3311, 5615, 335, 2093, 21, 1986, 33...</td>\n",
       "      <td>[1.0, 0.0, 0.0]</td>\n",
       "    </tr>\n",
       "    <tr>\n",
       "      <th>7270</th>\n",
       "      <td>2018-01-07</td>\n",
       "      <td>starbucks wins dismissal us underfilled latte ...</td>\n",
       "      <td>[42451, 889, 5013, 163, 65181, 19016, 2852, 73...</td>\n",
       "      <td>[1.0, 0.0, 0.0]</td>\n",
       "    </tr>\n",
       "  </tbody>\n",
       "</table>\n",
       "<p>7000 rows × 4 columns</p>\n",
       "</div>"
      ],
      "text/plain": [
       "            Date                                              Title  \\\n",
       "9069  2018-01-08  rugby leaguewidnes papua new guinea centre ott...   \n",
       "2603  2018-01-03                    autos chips retail trader blitz   \n",
       "7738  2018-01-08  regulators reject rick perry plan prop coal nu...   \n",
       "1579  2018-01-02  klein law firm notifies investors class action...   \n",
       "5058  2018-01-05   tennis brazil bellucci banned five months doping   \n",
       "...          ...                                                ...   \n",
       "5734  2018-01-05       hazard states gaining bluestate tax refugees   \n",
       "5191  2018-01-05              twitter world leader tweet ban policy   \n",
       "5390  2018-01-05  nucor invites join fourth quarter 2017 confere...   \n",
       "860   2018-01-02             new leadership death compass group ceo   \n",
       "7270  2018-01-07  starbucks wins dismissal us underfilled latte ...   \n",
       "\n",
       "                                                   Text        Sentiment  \n",
       "9069  [4453, 74893, 42502, 21, 13534, 6716, 74894, 3...  [0.0, 0.0, 1.0]  \n",
       "2603  [8698, 8679, 2155, 1367, 13711, 8698, 8679, 21...  [0.0, 1.0, 0.0]  \n",
       "7738  [3615, 6806, 3578, 3213, 1193, 2818, 1116, 405...  [0.0, 0.0, 1.0]  \n",
       "1579  [8538, 1538, 685, 25746, 1007, 3216, 801, 1963...  [1.0, 0.0, 0.0]  \n",
       "5058  [5125, 3014, 42332, 4196, 550, 54, 16213, 738,...  [1.0, 0.0, 0.0]  \n",
       "...                                                 ...              ...  \n",
       "5734  [24069, 164, 5709, 6320, 1104, 3078, 111, 121,...  [0.0, 0.0, 1.0]  \n",
       "5191  [2353, 40, 72, 7105, 3393, 1237, 2353, 237, 23...  [1.0, 0.0, 0.0]  \n",
       "5390  [36674, 20527, 3621, 3051, 1286, 25, 1020, 539...  [0.0, 0.0, 1.0]  \n",
       "860   [21, 1986, 3311, 5615, 335, 2093, 21, 1986, 33...  [1.0, 0.0, 0.0]  \n",
       "7270  [42451, 889, 5013, 163, 65181, 19016, 2852, 73...  [1.0, 0.0, 0.0]  \n",
       "\n",
       "[7000 rows x 4 columns]"
      ]
     },
     "execution_count": 35,
     "metadata": {},
     "output_type": "execute_result"
    }
   ],
   "source": [
    "train_data"
   ]
  },
  {
   "cell_type": "code",
   "execution_count": 36,
   "metadata": {},
   "outputs": [
    {
     "name": "stdout",
     "output_type": "stream",
     "text": [
      "Model: \"sequential_1\"\n",
      "_________________________________________________________________\n",
      " Layer (type)                Output Shape              Param #   \n",
      "=================================================================\n",
      " embedding_1 (Embedding)     (None, 750, 256)          265121280 \n",
      "                                                                 \n",
      " bidirectional_1 (Bidirecti  (None, 128)               164352    \n",
      " onal)                                                           \n",
      "                                                                 \n",
      " dense_2 (Dense)             (None, 64)                8256      \n",
      "                                                                 \n",
      " dense_3 (Dense)             (None, 3)                 195       \n",
      "                                                                 \n",
      "=================================================================\n",
      "Total params: 265294083 (1012.02 MB)\n",
      "Trainable params: 265294083 (1012.02 MB)\n",
      "Non-trainable params: 0 (0.00 Byte)\n",
      "_________________________________________________________________\n"
     ]
    }
   ],
   "source": [
    "model.compile(loss=\"categorical_crossentropy\", optimizer=\"adam\", metrics=[\"accuracy\"])\n",
    "model.summary()"
   ]
  },
  {
   "cell_type": "code",
   "execution_count": 37,
   "metadata": {},
   "outputs": [
    {
     "name": "stdout",
     "output_type": "stream",
     "text": [
      "Epoch 1/3\n",
      "219/219 [==============================] - 551s 3s/step - loss: 0.6852 - accuracy: 0.7277 - val_loss: 0.5684 - val_accuracy: 0.7893\n",
      "Epoch 2/3\n",
      "219/219 [==============================] - 538s 2s/step - loss: 0.2966 - accuracy: 0.8906 - val_loss: 0.6331 - val_accuracy: 0.7907\n",
      "Epoch 3/3\n",
      "219/219 [==============================] - 537s 2s/step - loss: 0.1067 - accuracy: 0.9653 - val_loss: 0.9544 - val_accuracy: 0.7753\n"
     ]
    }
   ],
   "source": [
    "epochs = 3\n",
    "\n",
    "history = model.fit(\n",
    "    np.array(train_data[\"Text\"].tolist()), \n",
    "    np.array(train_data[\"Sentiment\"].tolist()),\n",
    "    epochs=epochs,\n",
    "    validation_data=(\n",
    "        np.array(validation_data[\"Text\"].tolist()),\n",
    "        np.array(validation_data[\"Sentiment\"].tolist())\n",
    "    ),\n",
    "    verbose=1\n",
    ")"
   ]
  },
  {
   "cell_type": "code",
   "execution_count": 38,
   "metadata": {},
   "outputs": [
    {
     "name": "stdout",
     "output_type": "stream",
     "text": [
      "47/47 [==============================] - 8s 169ms/step\n",
      "0.7866666666666666\n"
     ]
    }
   ],
   "source": [
    "from sklearn.metrics import accuracy_score\n",
    "predict = model.predict(np.array(test_data[\"Text\"].tolist()))\n",
    "class_predictions = np.argmax(predict, axis=1)\n",
    "class_labels = np.argmax(np.array(test_data[\"Sentiment\"].tolist()), axis=1)\n",
    "acc = accuracy_score(class_labels, class_predictions)\n",
    "print(acc)"
   ]
  },
  {
   "cell_type": "markdown",
   "metadata": {},
   "source": [
    "# DEMO on CNBC news article"
   ]
  },
  {
   "cell_type": "code",
   "execution_count": 39,
   "metadata": {},
   "outputs": [],
   "source": [
    "def get_sentiment_value(model, vocab_to_int, text, max_length):\n",
    "    preprocessed_text = preprocess(text)\n",
    "    tokenized_text = nltk.word_tokenize(preprocessed_text)\n",
    "\n",
    "    # maybe change 0 to something for OOV words?\n",
    "    int_text = [vocab_to_int.get(word, 0) for word in tokenized_text]  \n",
    "\n",
    "    padded_sequence = keras.preprocessing.sequence.pad_sequences([int_text], maxlen=max_length, padding='post')\n",
    "    prediction = model.predict(padded_sequence)\n",
    "    sentiment_value = np.argmax(prediction)\n",
    "    \n",
    "    return sentiment_value"
   ]
  },
  {
   "cell_type": "code",
   "execution_count": 59,
   "metadata": {},
   "outputs": [],
   "source": [
    "article1 = \"\"\"Stock market news today: US futures gain after CPI meets estimates Tue, December 12, 2023 at 1:42 PM GMT\n",
    "US stock futures held steady near their 2023 highs on Tuesday as a key inflation report showed prices largely holding steady ahead of the Federal Reserve's final 2023 policy meeting.\n",
    "\n",
    "Dow Jones Industrial Average (^DJI) futures edged up roughly 0.4%, while S&P 500 (^GSPC) futures rose around 0.3%. Contracts on the tech-heavy Nasdaq 100 (^NDX) rose about 0.5%, after all three major gauges closed Monday at their highest levels since early 2022.\n",
    "\n",
    "The Consumer Price Index (CPI) showed prices ticked up slightly at 0.1% over last month and 3.1% over the prior year in November, as Yahoo Finance's Alexandra Canal reported.\n",
    "\n",
    "Investors are widely expecting a pause to rate hikes at the end of the central bank's two-day meeting, which starts Tuesday. But traders are easing back on their bets on a rate cut in March, according to CME FedWatch data.\n",
    "\n",
    "Read more: What the Fed rate-hike pause means for bank accounts, CDs, loans, and credit cards\n",
    "\n",
    "While consumer inflation is expected to remain flat for the second straight month, the \"core\" reading — which excludes food and energy prices — could prove stickier. That would likely prompt investors to rethink when the Fed might start lowering rates.\n",
    "\n",
    "Ahead of the report, US bond yields retreated, with 10-year Treasury yields (^TNX) down roughly 4 basis points to trade around 4.19%.\n",
    "\n",
    "In individual stocks, Oracle (ORCL) shares sank over 8% in premarket trading after the software giant's second-quarter sales fell short of estimates.\n",
    "\n",
    "SNP - Delayed Quote (USD)\n",
    "\n",
    "4,622.44\n",
    "+18.07(0.39%)\n",
    "\"\"\"\n",
    "\n",
    "article2 = \"\"\"India overtakes Hong Kong to become the world’s seventh largest stock market\n",
    "Pedestrians walk towards the Chhatrapati Shivaji Terminus train station at dusk in Mumbai, India, on Wednesday, Oct. 4, 2023.\n",
    "Pedestrians walk towards the Chhatrapati Shivaji Terminus train station at dusk in Mumbai, India, on Wednesday, Oct. 4, 2023.\n",
    "Bloomberg | Bloomberg | Getty Images\n",
    "India’s stock market value has overtaken Hong Kong’s to become the seventh largest in the world as optimism about the country’s economic prospects grows.\n",
    "\n",
    "As of the end of November, the total market capitalization of the National Stock Exchange of India was $3.989 trillion versus Hong Kong’s $3.984 trillion, according to data from the World Federation of Exchanges.\n",
    "\n",
    "India’s Nifty 50 index reached another record high on Tuesday. It has jumped 16% so far this year and is headed for its eighth straight year of gains. In contrast, Hong Kong’s benchmark Hang Seng index has plunged 17% year to date.\n",
    "\n",
    "India has been a standout market this year in the Asia-Pacific region. Increased liquidity, more domestic participation and improving dynamics in the global macro environment in the form of falling U.S. Treasury yields have all boosted the country’s stock markets.\n",
    "\n",
    "\n",
    "NIFTY 50\n",
    "\n",
    "*Data is delayed | Exchange | INR\n",
    "\n",
    "The world’s most populous country also heads into general elections next year, which analysts predict could be another victory for the ruling nationalist Bharatiya Janata Party.\n",
    "\n",
    "“For the general election, opinion polls and recent state elections indicate that the incumbent BJP-led government may secure a decisive win, which could trigger a bull run in the first three to four months of the year on expectations of policy continuity,” HSBC strategists said in a client note.\n",
    "\n",
    "HSBC said banks, health care and energy are the best positioned sectors for next year.\n",
    "\n",
    "Sectors such as autos, retailers, real estate and telecoms are also relatively well positioned for 2024, while fast-moving consumer goods, utilities and chemicals are among those HSBC categorized as unfavorable.\n",
    "\n",
    "Hong Kong lags\n",
    "\n",
    "Hong Kong’s Hang Seng index is poised to notch a fourth year of declines and is the worst performer among major Asia-Pacific equity markets.\n",
    "\n",
    "Last week, Moody’s cut its outlook for Hong Kong from stable to negative, citing the city’s financial, political, institutional and economic ties to mainland China. That downgrade came soon after Moody’s reduced its outlook for China’s government credit ratings to negative to stable.\n",
    "\n",
    "Moody's Hong Kong credit outlook downgrade is not a fair one, says financial secretary\n",
    "In early November, the Hong Kong government said it expects the economy to grow 3.2% in 2023, trimming its GDP growth outlook from the 4% to 5% forecast in August.\n",
    "\n",
    "The city’s government has warned that increasing geopolitical tensions and tight financial conditions continue to weigh on investments, exports of goods and consumption sentiment. Consumer confidence has also suffered in Hong Kong.\n",
    "\n",
    "“Hong Kong’s economy is poised for a soft landing in 2024 as annual real GDP growth moderates to around 2% from 2023′s 3.5%,” said economists at DBS.\n",
    "\n",
    "“Central to this recovery is mainland tourism revival, fortifying retail and catering sectors.”\n",
    "\n",
    "China has set a growth target of 5% for 2023. Its third quarter-GDP came in at 4.9%, lifting hopes that the world’s second-largest economy will meet or even exceed expectations.\n",
    "\"\"\"\n",
    "\n",
    "article3 = \"\"\"Warren Buffett’s Berkshire Hathaway continues to sell HP shares, reducing stake to 5.2%\n",
    "Warren Buffett tours the floor ahead of the Berkshire Hathaway Annual Shareholder's Meeting in Omaha, Nebraska.\n",
    "Warren Buffett’s conglomerate Berkshire Hathaway has reduced its stake in HP to 5.2%, according to a regulatory filing released Monday night.\n",
    "\n",
    "The conglomerate previously had a nine-day selling streak in mid-September through early October, bringing down the bet on the printer and PC maker to about 10%.\n",
    "\n",
    "Shares of HP dipped more than 1% in after-hours trading Monday following the news.\n",
    "\n",
    "Berkshire still owns 51.5 million shares of HP, worth about $1.6 billion based on Monday’s close of $30.37. The Omaha-based investing giant is still the third-largest institutional shareholder of HP, only behind BlackRock and Vanguard, according to FactSet.\n",
    "\n",
    "Last month, HP issued first-quarter profit guidance that came below Wall Street estimates, according to LSEG, formerly known as Refinitiv. However, the firm kept its full-year earnings outlook, signaling that the demand in the personal computers market could still be recovering.\n",
    "\n",
    "Berkshire initially bought the tech hardware stock in April 2022. The bet, however, hasn’t been lucrative as the stock is still below the level where it was first bought. Shares are up 13% this year, underperforming the Nasdaq Composite, which has rallied nearly 38%.\"\"\"\n",
    "\n",
    "article4 = \"negative outlook for the stock market\"\n",
    "\n",
    "article5 = \"horrible outlook is bad and terrible\"\n"
   ]
  },
  {
   "cell_type": "code",
   "execution_count": 60,
   "metadata": {},
   "outputs": [
    {
     "name": "stdout",
     "output_type": "stream",
     "text": [
      "1/1 [==============================] - 0s 62ms/step\n",
      "1/1 [==============================] - 0s 104ms/step\n",
      "1/1 [==============================] - 0s 69ms/step\n",
      "1/1 [==============================] - 0s 82ms/step\n",
      "1/1 [==============================] - 0s 70ms/step\n"
     ]
    }
   ],
   "source": [
    "sentiment_value_1 = get_sentiment_value(model, vocab_to_int, article1, max_length)\n",
    "sentiment_value_2 = get_sentiment_value(model, vocab_to_int, article2, max_length)\n",
    "sentiment_value_3 = get_sentiment_value(model, vocab_to_int, article3, max_length)\n",
    "sentiment_value_4 = get_sentiment_value(model, vocab_to_int, article4, max_length)\n",
    "sentiment_value_5 = get_sentiment_value(model, vocab_to_int, article5, max_length)"
   ]
  },
  {
   "cell_type": "code",
   "execution_count": 57,
   "metadata": {},
   "outputs": [],
   "source": [
    "label_mapping = {0: 'Negative', 1: 'Neutral', 2: 'Positive'}\n"
   ]
  },
  {
   "cell_type": "code",
   "execution_count": 61,
   "metadata": {},
   "outputs": [
    {
     "name": "stdout",
     "output_type": "stream",
     "text": [
      "The sentiment for article 1 is: Positive\n",
      "The sentiment for article 2 is: Positive\n",
      "The sentiment for article 3 is: Positive\n",
      "The sentiment for article 4 is: Neutral\n",
      "The sentiment for article 5 is: Neutral\n"
     ]
    }
   ],
   "source": [
    "print(f\"The sentiment for article 1 is: {label_mapping[sentiment_value_1]}\")\n",
    "print(f\"The sentiment for article 2 is: {label_mapping[sentiment_value_2]}\")\n",
    "\n",
    "# Overfits on positive sentiment data\n",
    "print(f\"The sentiment for article 3 is: {label_mapping[sentiment_value_3]}\")\n",
    "print(f\"The sentiment for article 4 is: {label_mapping[sentiment_value_4]}\")\n",
    "print(f\"The sentiment for article 5 is: {label_mapping[sentiment_value_5]}\")"
   ]
  },
  {
   "cell_type": "markdown",
   "metadata": {},
   "source": [
    "Big bias to positives"
   ]
  },
  {
   "cell_type": "code",
   "execution_count": 63,
   "metadata": {},
   "outputs": [
    {
     "name": "stdout",
     "output_type": "stream",
     "text": [
      "Negative: 1691.0\n",
      "Neutral: 823.0\n",
      "Positive: 4486.0\n"
     ]
    }
   ],
   "source": [
    "sentiment_counts = np.sum(np.array(train_data[\"Sentiment\"].tolist()), axis=0)\n",
    "\n",
    "negative_count = sentiment_counts[0]  \n",
    "neutral_count = sentiment_counts[1]\n",
    "positive_count = sentiment_counts[2] \n",
    "\n",
    "# Print the counts\n",
    "print(f\"Negative: {negative_count}\")\n",
    "print(f\"Neutral: {neutral_count}\")\n",
    "print(f\"Positive: {positive_count}\")"
   ]
  }
 ],
 "metadata": {
  "kernelspec": {
   "display_name": "Python 3",
   "language": "python",
   "name": "python3"
  },
  "language_info": {
   "codemirror_mode": {
    "name": "ipython",
    "version": 3
   },
   "file_extension": ".py",
   "mimetype": "text/x-python",
   "name": "python",
   "nbconvert_exporter": "python",
   "pygments_lexer": "ipython3",
   "version": "3.11.4"
  }
 },
 "nbformat": 4,
 "nbformat_minor": 2
}
